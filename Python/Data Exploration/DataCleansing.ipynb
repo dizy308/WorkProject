{
 "cells": [
  {
   "cell_type": "code",
   "execution_count": 4,
   "metadata": {},
   "outputs": [],
   "source": [
    "import pandas as pd\n",
    "import numpy as np\n",
    "import matplotlib.pyplot as plt\n",
    "import seaborn as sns\n",
    "import os\n",
    "%config completer.use_jedi = False"
   ]
  },
  {
   "cell_type": "code",
   "execution_count": 5,
   "metadata": {},
   "outputs": [],
   "source": [
    "os.chdir('..\\..\\ProjectData\\RevenueReportData\\DT theo CN (uncleaned)')"
   ]
  },
  {
   "cell_type": "code",
   "execution_count": 7,
   "metadata": {},
   "outputs": [],
   "source": [
    "year = input('Please type in a year: ')\n",
    "fileName = f'DT theo CN {year}'\n",
    "df = pd.read_excel(f'{fileName}.xls')"
   ]
  },
  {
   "cell_type": "code",
   "execution_count": 8,
   "metadata": {},
   "outputs": [],
   "source": [
    "df.loc[5].ffill(inplace = True)"
   ]
  },
  {
   "cell_type": "code",
   "execution_count": 9,
   "metadata": {},
   "outputs": [],
   "source": [
    "df.drop(np.arange(5), axis = 0, inplace = True)"
   ]
  },
  {
   "cell_type": "code",
   "execution_count": 10,
   "metadata": {},
   "outputs": [],
   "source": [
    "df.drop(['Unnamed: 1'], axis=1, inplace=True)"
   ]
  },
  {
   "cell_type": "code",
   "execution_count": 11,
   "metadata": {},
   "outputs": [],
   "source": [
    "df.rename(columns=df.iloc[0], inplace = True)"
   ]
  },
  {
   "cell_type": "code",
   "execution_count": 12,
   "metadata": {},
   "outputs": [],
   "source": [
    "df.drop(df.head(1).index, inplace = True)"
   ]
  },
  {
   "cell_type": "code",
   "execution_count": 13,
   "metadata": {},
   "outputs": [],
   "source": [
    "newColumnName = []\n",
    "for n in df.columns[1:]:\n",
    "    a = n + ' KH'\n",
    "    if a not in newColumnName:\n",
    "        newColumnName.append(a)\n",
    "    else:\n",
    "        a = n + ' TH'\n",
    "        newColumnName.append(a)\n",
    "newColumnName.insert(0,'Chỉ tiêu')     "
   ]
  },
  {
   "cell_type": "code",
   "execution_count": 14,
   "metadata": {},
   "outputs": [],
   "source": [
    "df.columns = newColumnName"
   ]
  },
  {
   "cell_type": "code",
   "execution_count": 15,
   "metadata": {},
   "outputs": [],
   "source": [
    "df.drop([6], inplace = True)\n",
    "df.reset_index(drop = True,inplace = True)"
   ]
  },
  {
   "cell_type": "code",
   "execution_count": 16,
   "metadata": {},
   "outputs": [],
   "source": [
    "df_1 = pd.melt(df, id_vars = 'Chỉ tiêu', value_vars=list(df.iloc[:,1:].columns))"
   ]
  },
  {
   "cell_type": "code",
   "execution_count": 17,
   "metadata": {},
   "outputs": [
    {
     "data": {
      "text/html": [
       "<div>\n",
       "<style scoped>\n",
       "    .dataframe tbody tr th:only-of-type {\n",
       "        vertical-align: middle;\n",
       "    }\n",
       "\n",
       "    .dataframe tbody tr th {\n",
       "        vertical-align: top;\n",
       "    }\n",
       "\n",
       "    .dataframe thead th {\n",
       "        text-align: right;\n",
       "    }\n",
       "</style>\n",
       "<table border=\"1\" class=\"dataframe\">\n",
       "  <thead>\n",
       "    <tr style=\"text-align: right;\">\n",
       "      <th></th>\n",
       "      <th>Chỉ tiêu</th>\n",
       "      <th>variable</th>\n",
       "      <th>value</th>\n",
       "    </tr>\n",
       "  </thead>\n",
       "  <tbody>\n",
       "    <tr>\n",
       "      <th>0</th>\n",
       "      <td>NaN</td>\n",
       "      <td>Tổng cộng KH</td>\n",
       "      <td>0</td>\n",
       "    </tr>\n",
       "    <tr>\n",
       "      <th>1</th>\n",
       "      <td>Doanh thu bán hàng và cung cấp dịch vụ</td>\n",
       "      <td>Tổng cộng KH</td>\n",
       "      <td>NaN</td>\n",
       "    </tr>\n",
       "    <tr>\n",
       "      <th>2</th>\n",
       "      <td>Doanh thu bán hàng hóa</td>\n",
       "      <td>Tổng cộng KH</td>\n",
       "      <td>NaN</td>\n",
       "    </tr>\n",
       "    <tr>\n",
       "      <th>3</th>\n",
       "      <td>Doanh thu bán hàng (bách hóa, lưu niệm, ăn uống)</td>\n",
       "      <td>Tổng cộng KH</td>\n",
       "      <td>32906000000</td>\n",
       "    </tr>\n",
       "    <tr>\n",
       "      <th>4</th>\n",
       "      <td>Doanh thu hợp tác kinh doanh</td>\n",
       "      <td>Tổng cộng KH</td>\n",
       "      <td>255272000000</td>\n",
       "    </tr>\n",
       "    <tr>\n",
       "      <th>...</th>\n",
       "      <td>...</td>\n",
       "      <td>...</td>\n",
       "      <td>...</td>\n",
       "    </tr>\n",
       "    <tr>\n",
       "      <th>2855</th>\n",
       "      <td>Thu nhập do nhượng bán, thanh lý tài sản</td>\n",
       "      <td>Cảng hàng không Điện Biên TH</td>\n",
       "      <td>24823233</td>\n",
       "    </tr>\n",
       "    <tr>\n",
       "      <th>2856</th>\n",
       "      <td>Thu do vi phạm hợp đồng kinh tế</td>\n",
       "      <td>Cảng hàng không Điện Biên TH</td>\n",
       "      <td>0</td>\n",
       "    </tr>\n",
       "    <tr>\n",
       "      <th>2857</th>\n",
       "      <td>Thu bán hồ sơ thầu</td>\n",
       "      <td>Cảng hàng không Điện Biên TH</td>\n",
       "      <td>0</td>\n",
       "    </tr>\n",
       "    <tr>\n",
       "      <th>2858</th>\n",
       "      <td>Thu nhập khác</td>\n",
       "      <td>Cảng hàng không Điện Biên TH</td>\n",
       "      <td>11460515</td>\n",
       "    </tr>\n",
       "    <tr>\n",
       "      <th>2859</th>\n",
       "      <td>Tổng cộng:</td>\n",
       "      <td>Cảng hàng không Điện Biên TH</td>\n",
       "      <td>NaN</td>\n",
       "    </tr>\n",
       "  </tbody>\n",
       "</table>\n",
       "<p>2860 rows × 3 columns</p>\n",
       "</div>"
      ],
      "text/plain": [
       "                                              Chỉ tiêu  \\\n",
       "0                                                  NaN   \n",
       "1               Doanh thu bán hàng và cung cấp dịch vụ   \n",
       "2                               Doanh thu bán hàng hóa   \n",
       "3     Doanh thu bán hàng (bách hóa, lưu niệm, ăn uống)   \n",
       "4                         Doanh thu hợp tác kinh doanh   \n",
       "...                                                ...   \n",
       "2855          Thu nhập do nhượng bán, thanh lý tài sản   \n",
       "2856                   Thu do vi phạm hợp đồng kinh tế   \n",
       "2857                                Thu bán hồ sơ thầu   \n",
       "2858                                     Thu nhập khác   \n",
       "2859                                        Tổng cộng:   \n",
       "\n",
       "                          variable         value  \n",
       "0                     Tổng cộng KH             0  \n",
       "1                     Tổng cộng KH           NaN  \n",
       "2                     Tổng cộng KH           NaN  \n",
       "3                     Tổng cộng KH   32906000000  \n",
       "4                     Tổng cộng KH  255272000000  \n",
       "...                            ...           ...  \n",
       "2855  Cảng hàng không Điện Biên TH      24823233  \n",
       "2856  Cảng hàng không Điện Biên TH             0  \n",
       "2857  Cảng hàng không Điện Biên TH             0  \n",
       "2858  Cảng hàng không Điện Biên TH      11460515  \n",
       "2859  Cảng hàng không Điện Biên TH           NaN  \n",
       "\n",
       "[2860 rows x 3 columns]"
      ]
     },
     "execution_count": 17,
     "metadata": {},
     "output_type": "execute_result"
    }
   ],
   "source": [
    "df_1"
   ]
  },
  {
   "cell_type": "code",
   "execution_count": 18,
   "metadata": {},
   "outputs": [
    {
     "data": {
      "text/html": [
       "<div>\n",
       "<style scoped>\n",
       "    .dataframe tbody tr th:only-of-type {\n",
       "        vertical-align: middle;\n",
       "    }\n",
       "\n",
       "    .dataframe tbody tr th {\n",
       "        vertical-align: top;\n",
       "    }\n",
       "\n",
       "    .dataframe thead th {\n",
       "        text-align: right;\n",
       "    }\n",
       "</style>\n",
       "<table border=\"1\" class=\"dataframe\">\n",
       "  <thead>\n",
       "    <tr style=\"text-align: right;\">\n",
       "      <th></th>\n",
       "      <th>Chỉ tiêu</th>\n",
       "      <th>variable</th>\n",
       "      <th>value</th>\n",
       "    </tr>\n",
       "  </thead>\n",
       "  <tbody>\n",
       "    <tr>\n",
       "      <th>1</th>\n",
       "      <td>Doanh thu bán hàng và cung cấp dịch vụ</td>\n",
       "      <td>Tổng cộng KH</td>\n",
       "      <td>NaN</td>\n",
       "    </tr>\n",
       "    <tr>\n",
       "      <th>2</th>\n",
       "      <td>Doanh thu bán hàng hóa</td>\n",
       "      <td>Tổng cộng KH</td>\n",
       "      <td>NaN</td>\n",
       "    </tr>\n",
       "    <tr>\n",
       "      <th>8</th>\n",
       "      <td>Doanh thu cung cấp dịch vụ</td>\n",
       "      <td>Tổng cộng KH</td>\n",
       "      <td>NaN</td>\n",
       "    </tr>\n",
       "    <tr>\n",
       "      <th>9</th>\n",
       "      <td>Doanh thu dịch vụ hàng không</td>\n",
       "      <td>Tổng cộng KH</td>\n",
       "      <td>NaN</td>\n",
       "    </tr>\n",
       "    <tr>\n",
       "      <th>10</th>\n",
       "      <td>Doanh thu dịch vụ cảng</td>\n",
       "      <td>Tổng cộng KH</td>\n",
       "      <td>NaN</td>\n",
       "    </tr>\n",
       "    <tr>\n",
       "      <th>...</th>\n",
       "      <td>...</td>\n",
       "      <td>...</td>\n",
       "      <td>...</td>\n",
       "    </tr>\n",
       "    <tr>\n",
       "      <th>2847</th>\n",
       "      <td>Doanh thu hoạt động tài chính</td>\n",
       "      <td>Cảng hàng không Điện Biên TH</td>\n",
       "      <td>NaN</td>\n",
       "    </tr>\n",
       "    <tr>\n",
       "      <th>2849</th>\n",
       "      <td>Lãi chênh lệch tỷ giá</td>\n",
       "      <td>Cảng hàng không Điện Biên TH</td>\n",
       "      <td>NaN</td>\n",
       "    </tr>\n",
       "    <tr>\n",
       "      <th>2852</th>\n",
       "      <td>Các khoản giảm trừ doanh thu</td>\n",
       "      <td>Cảng hàng không Điện Biên TH</td>\n",
       "      <td>NaN</td>\n",
       "    </tr>\n",
       "    <tr>\n",
       "      <th>2854</th>\n",
       "      <td>Thu nhập khác</td>\n",
       "      <td>Cảng hàng không Điện Biên TH</td>\n",
       "      <td>NaN</td>\n",
       "    </tr>\n",
       "    <tr>\n",
       "      <th>2859</th>\n",
       "      <td>Tổng cộng:</td>\n",
       "      <td>Cảng hàng không Điện Biên TH</td>\n",
       "      <td>NaN</td>\n",
       "    </tr>\n",
       "  </tbody>\n",
       "</table>\n",
       "<p>792 rows × 3 columns</p>\n",
       "</div>"
      ],
      "text/plain": [
       "                                    Chỉ tiêu                      variable  \\\n",
       "1     Doanh thu bán hàng và cung cấp dịch vụ                  Tổng cộng KH   \n",
       "2                     Doanh thu bán hàng hóa                  Tổng cộng KH   \n",
       "8                 Doanh thu cung cấp dịch vụ                  Tổng cộng KH   \n",
       "9               Doanh thu dịch vụ hàng không                  Tổng cộng KH   \n",
       "10                    Doanh thu dịch vụ cảng                  Tổng cộng KH   \n",
       "...                                      ...                           ...   \n",
       "2847           Doanh thu hoạt động tài chính  Cảng hàng không Điện Biên TH   \n",
       "2849                   Lãi chênh lệch tỷ giá  Cảng hàng không Điện Biên TH   \n",
       "2852            Các khoản giảm trừ doanh thu  Cảng hàng không Điện Biên TH   \n",
       "2854                           Thu nhập khác  Cảng hàng không Điện Biên TH   \n",
       "2859                              Tổng cộng:  Cảng hàng không Điện Biên TH   \n",
       "\n",
       "     value  \n",
       "1      NaN  \n",
       "2      NaN  \n",
       "8      NaN  \n",
       "9      NaN  \n",
       "10     NaN  \n",
       "...    ...  \n",
       "2847   NaN  \n",
       "2849   NaN  \n",
       "2852   NaN  \n",
       "2854   NaN  \n",
       "2859   NaN  \n",
       "\n",
       "[792 rows x 3 columns]"
      ]
     },
     "execution_count": 18,
     "metadata": {},
     "output_type": "execute_result"
    }
   ],
   "source": [
    "df_1[df_1['value'].isnull()] "
   ]
  },
  {
   "cell_type": "code",
   "execution_count": 19,
   "metadata": {},
   "outputs": [],
   "source": [
    "df_1.drop(df_1[(df_1['value'].isnull() == True)].index, inplace = True)"
   ]
  },
  {
   "cell_type": "code",
   "execution_count": 20,
   "metadata": {},
   "outputs": [
    {
     "data": {
      "text/html": [
       "<div>\n",
       "<style scoped>\n",
       "    .dataframe tbody tr th:only-of-type {\n",
       "        vertical-align: middle;\n",
       "    }\n",
       "\n",
       "    .dataframe tbody tr th {\n",
       "        vertical-align: top;\n",
       "    }\n",
       "\n",
       "    .dataframe thead th {\n",
       "        text-align: right;\n",
       "    }\n",
       "</style>\n",
       "<table border=\"1\" class=\"dataframe\">\n",
       "  <thead>\n",
       "    <tr style=\"text-align: right;\">\n",
       "      <th></th>\n",
       "      <th>Chỉ tiêu</th>\n",
       "      <th>variable</th>\n",
       "      <th>value</th>\n",
       "    </tr>\n",
       "  </thead>\n",
       "  <tbody>\n",
       "    <tr>\n",
       "      <th>0</th>\n",
       "      <td>NaN</td>\n",
       "      <td>Tổng cộng KH</td>\n",
       "      <td>0</td>\n",
       "    </tr>\n",
       "    <tr>\n",
       "      <th>3</th>\n",
       "      <td>Doanh thu bán hàng (bách hóa, lưu niệm, ăn uống)</td>\n",
       "      <td>Tổng cộng KH</td>\n",
       "      <td>32906000000</td>\n",
       "    </tr>\n",
       "    <tr>\n",
       "      <th>4</th>\n",
       "      <td>Doanh thu hợp tác kinh doanh</td>\n",
       "      <td>Tổng cộng KH</td>\n",
       "      <td>255272000000</td>\n",
       "    </tr>\n",
       "    <tr>\n",
       "      <th>5</th>\n",
       "      <td>Doanh thu bán hàng miễn thuế</td>\n",
       "      <td>Tổng cộng KH</td>\n",
       "      <td>129167000000</td>\n",
       "    </tr>\n",
       "    <tr>\n",
       "      <th>6</th>\n",
       "      <td>Doanh thu bán nước</td>\n",
       "      <td>Tổng cộng KH</td>\n",
       "      <td>6372000000</td>\n",
       "    </tr>\n",
       "    <tr>\n",
       "      <th>...</th>\n",
       "      <td>...</td>\n",
       "      <td>...</td>\n",
       "      <td>...</td>\n",
       "    </tr>\n",
       "    <tr>\n",
       "      <th>2853</th>\n",
       "      <td>Các khoản giảm trừ doanh thu</td>\n",
       "      <td>Cảng hàng không Điện Biên TH</td>\n",
       "      <td>-261129000</td>\n",
       "    </tr>\n",
       "    <tr>\n",
       "      <th>2855</th>\n",
       "      <td>Thu nhập do nhượng bán, thanh lý tài sản</td>\n",
       "      <td>Cảng hàng không Điện Biên TH</td>\n",
       "      <td>24823233</td>\n",
       "    </tr>\n",
       "    <tr>\n",
       "      <th>2856</th>\n",
       "      <td>Thu do vi phạm hợp đồng kinh tế</td>\n",
       "      <td>Cảng hàng không Điện Biên TH</td>\n",
       "      <td>0</td>\n",
       "    </tr>\n",
       "    <tr>\n",
       "      <th>2857</th>\n",
       "      <td>Thu bán hồ sơ thầu</td>\n",
       "      <td>Cảng hàng không Điện Biên TH</td>\n",
       "      <td>0</td>\n",
       "    </tr>\n",
       "    <tr>\n",
       "      <th>2858</th>\n",
       "      <td>Thu nhập khác</td>\n",
       "      <td>Cảng hàng không Điện Biên TH</td>\n",
       "      <td>11460515</td>\n",
       "    </tr>\n",
       "  </tbody>\n",
       "</table>\n",
       "<p>2068 rows × 3 columns</p>\n",
       "</div>"
      ],
      "text/plain": [
       "                                              Chỉ tiêu  \\\n",
       "0                                                  NaN   \n",
       "3     Doanh thu bán hàng (bách hóa, lưu niệm, ăn uống)   \n",
       "4                         Doanh thu hợp tác kinh doanh   \n",
       "5                         Doanh thu bán hàng miễn thuế   \n",
       "6                                   Doanh thu bán nước   \n",
       "...                                                ...   \n",
       "2853                      Các khoản giảm trừ doanh thu   \n",
       "2855          Thu nhập do nhượng bán, thanh lý tài sản   \n",
       "2856                   Thu do vi phạm hợp đồng kinh tế   \n",
       "2857                                Thu bán hồ sơ thầu   \n",
       "2858                                     Thu nhập khác   \n",
       "\n",
       "                          variable         value  \n",
       "0                     Tổng cộng KH             0  \n",
       "3                     Tổng cộng KH   32906000000  \n",
       "4                     Tổng cộng KH  255272000000  \n",
       "5                     Tổng cộng KH  129167000000  \n",
       "6                     Tổng cộng KH    6372000000  \n",
       "...                            ...           ...  \n",
       "2853  Cảng hàng không Điện Biên TH    -261129000  \n",
       "2855  Cảng hàng không Điện Biên TH      24823233  \n",
       "2856  Cảng hàng không Điện Biên TH             0  \n",
       "2857  Cảng hàng không Điện Biên TH             0  \n",
       "2858  Cảng hàng không Điện Biên TH      11460515  \n",
       "\n",
       "[2068 rows x 3 columns]"
      ]
     },
     "execution_count": 20,
     "metadata": {},
     "output_type": "execute_result"
    }
   ],
   "source": [
    "df_1"
   ]
  },
  {
   "cell_type": "code",
   "execution_count": 21,
   "metadata": {},
   "outputs": [],
   "source": [
    "df_2 = df_1['variable'].str.rsplit(' ', n = 1, expand = True)"
   ]
  },
  {
   "cell_type": "code",
   "execution_count": 22,
   "metadata": {},
   "outputs": [],
   "source": [
    "df = pd.concat([df_1, df_2], axis = 1)\n"
   ]
  },
  {
   "cell_type": "code",
   "execution_count": 23,
   "metadata": {},
   "outputs": [],
   "source": [
    "df.drop(['variable'], axis = 1, inplace = True)\n"
   ]
  },
  {
   "cell_type": "code",
   "execution_count": 24,
   "metadata": {},
   "outputs": [],
   "source": [
    "df.columns = ['Chỉ tiêu', 'Giá trị', 'CHK', 'Loại DT']\n",
    "df = df[['Chỉ tiêu', 'CHK', 'Loại DT','Giá trị']]"
   ]
  },
  {
   "cell_type": "code",
   "execution_count": 25,
   "metadata": {},
   "outputs": [],
   "source": [
    "df.reset_index(inplace = True, drop=True)"
   ]
  },
  {
   "cell_type": "code",
   "execution_count": 26,
   "metadata": {},
   "outputs": [],
   "source": [
    "cond = df[df['Chỉ tiêu'] == 'Doanh thu khác'].index\n",
    "df['Chỉ tiêu'].loc[cond] = 'Doanh thu PHK khác'"
   ]
  },
  {
   "cell_type": "code",
   "execution_count": 27,
   "metadata": {},
   "outputs": [],
   "source": [
    "df['Year'] = int(year)"
   ]
  },
  {
   "cell_type": "code",
   "execution_count": null,
   "metadata": {},
   "outputs": [],
   "source": [
    "df.head()"
   ]
  },
  {
   "cell_type": "code",
   "execution_count": 29,
   "metadata": {},
   "outputs": [],
   "source": [
    "idx_drop =  df[df['CHK'] == 'Tổng cộng'].index\n",
    "df.drop(idx_drop, inplace = True)"
   ]
  },
  {
   "cell_type": "code",
   "execution_count": null,
   "metadata": {},
   "outputs": [],
   "source": [
    "df.to_excel(f'{fileName}-cleaned.xlsx', index=None)"
   ]
  },
  {
   "cell_type": "code",
   "execution_count": null,
   "metadata": {},
   "outputs": [],
   "source": []
  }
 ],
 "metadata": {
  "kernelspec": {
   "display_name": "base",
   "language": "python",
   "name": "python3"
  },
  "language_info": {
   "codemirror_mode": {
    "name": "ipython",
    "version": 3
   },
   "file_extension": ".py",
   "mimetype": "text/x-python",
   "name": "python",
   "nbconvert_exporter": "python",
   "pygments_lexer": "ipython3",
   "version": "3.9.13"
  },
  "orig_nbformat": 4,
  "vscode": {
   "interpreter": {
    "hash": "c8247cd46745272d9c7c8ab15080c8ed21e61ae74d7d4939c7a38a329c28da52"
   }
  }
 },
 "nbformat": 4,
 "nbformat_minor": 2
}
