{
 "cells": [
  {
   "cell_type": "code",
   "execution_count": 2,
   "metadata": {},
   "outputs": [],
   "source": [
    "import requests\n",
    "from bs4 import BeautifulSoup\n",
    "import pandas as pd\n",
    "import time\n"
   ]
  },
  {
   "cell_type": "markdown",
   "metadata": {},
   "source": [
    "### Read the file"
   ]
  },
  {
   "cell_type": "code",
   "execution_count": 3,
   "metadata": {},
   "outputs": [
    {
     "name": "stderr",
     "output_type": "stream",
     "text": [
      "C:\\Users\\TADIZY\\AppData\\Local\\Temp\\ipykernel_28644\\1995305291.py:1: DtypeWarning: Columns (11) have mixed types. Specify dtype option on import or set low_memory=False.\n",
      "  df = pd.read_csv('Y2017-Y2022.csv')\n"
     ]
    }
   ],
   "source": [
    "df = pd.read_csv('Y2017-Y2022.csv')"
   ]
  },
  {
   "cell_type": "code",
   "execution_count": 4,
   "metadata": {},
   "outputs": [
    {
     "data": {
      "text/html": [
       "<div>\n",
       "<style scoped>\n",
       "    .dataframe tbody tr th:only-of-type {\n",
       "        vertical-align: middle;\n",
       "    }\n",
       "\n",
       "    .dataframe tbody tr th {\n",
       "        vertical-align: top;\n",
       "    }\n",
       "\n",
       "    .dataframe thead th {\n",
       "        text-align: right;\n",
       "    }\n",
       "</style>\n",
       "<table border=\"1\" class=\"dataframe\">\n",
       "  <thead>\n",
       "    <tr style=\"text-align: right;\">\n",
       "      <th></th>\n",
       "      <th>FlightDate</th>\n",
       "      <th>FlightNo</th>\n",
       "      <th>ACType</th>\n",
       "      <th>Route</th>\n",
       "      <th>CgoKgs</th>\n",
       "      <th>TotalPax</th>\n",
       "      <th>BaseStation</th>\n",
       "      <th>BagPcs</th>\n",
       "      <th>ScheduledTime</th>\n",
       "      <th>FlightType</th>\n",
       "      <th>Airline</th>\n",
       "      <th>domint</th>\n",
       "      <th>Capacity</th>\n",
       "      <th>INF</th>\n",
       "      <th>CHD</th>\n",
       "      <th>ADL</th>\n",
       "      <th>ArrDep</th>\n",
       "      <th>C</th>\n",
       "    </tr>\n",
       "  </thead>\n",
       "  <tbody>\n",
       "    <tr>\n",
       "      <th>0</th>\n",
       "      <td>2017-01-01</td>\n",
       "      <td>BL570</td>\n",
       "      <td>A320</td>\n",
       "      <td>SGN-BMV</td>\n",
       "      <td>0</td>\n",
       "      <td>139</td>\n",
       "      <td>BMV</td>\n",
       "      <td>21</td>\n",
       "      <td>1125</td>\n",
       "      <td>PAX</td>\n",
       "      <td>BL</td>\n",
       "      <td>True</td>\n",
       "      <td>180.0</td>\n",
       "      <td>7</td>\n",
       "      <td>6</td>\n",
       "      <td>126</td>\n",
       "      <td>A</td>\n",
       "      <td>0</td>\n",
       "    </tr>\n",
       "    <tr>\n",
       "      <th>1</th>\n",
       "      <td>2017-01-01</td>\n",
       "      <td>BL571</td>\n",
       "      <td>A320</td>\n",
       "      <td>BMV-SGN</td>\n",
       "      <td>0</td>\n",
       "      <td>140</td>\n",
       "      <td>BMV</td>\n",
       "      <td>11</td>\n",
       "      <td>1200</td>\n",
       "      <td>PAX</td>\n",
       "      <td>BL</td>\n",
       "      <td>True</td>\n",
       "      <td>180.0</td>\n",
       "      <td>7</td>\n",
       "      <td>15</td>\n",
       "      <td>118</td>\n",
       "      <td>D</td>\n",
       "      <td>0</td>\n",
       "    </tr>\n",
       "    <tr>\n",
       "      <th>2</th>\n",
       "      <td>2017-01-01</td>\n",
       "      <td>BL578</td>\n",
       "      <td>A320</td>\n",
       "      <td>BMV-VII</td>\n",
       "      <td>0</td>\n",
       "      <td>136</td>\n",
       "      <td>BMV</td>\n",
       "      <td>8</td>\n",
       "      <td>1040</td>\n",
       "      <td>PAX</td>\n",
       "      <td>BL</td>\n",
       "      <td>True</td>\n",
       "      <td>180.0</td>\n",
       "      <td>3</td>\n",
       "      <td>7</td>\n",
       "      <td>126</td>\n",
       "      <td>D</td>\n",
       "      <td>0</td>\n",
       "    </tr>\n",
       "    <tr>\n",
       "      <th>3</th>\n",
       "      <td>2017-01-01</td>\n",
       "      <td>BL579</td>\n",
       "      <td>A320</td>\n",
       "      <td>VII-BMV</td>\n",
       "      <td>0</td>\n",
       "      <td>132</td>\n",
       "      <td>BMV</td>\n",
       "      <td>15</td>\n",
       "      <td>1005</td>\n",
       "      <td>PAX</td>\n",
       "      <td>BL</td>\n",
       "      <td>True</td>\n",
       "      <td>180.0</td>\n",
       "      <td>6</td>\n",
       "      <td>3</td>\n",
       "      <td>123</td>\n",
       "      <td>A</td>\n",
       "      <td>0</td>\n",
       "    </tr>\n",
       "    <tr>\n",
       "      <th>4</th>\n",
       "      <td>2017-01-01</td>\n",
       "      <td>VJ356</td>\n",
       "      <td>A320</td>\n",
       "      <td>SGN-BMV</td>\n",
       "      <td>2898</td>\n",
       "      <td>154</td>\n",
       "      <td>BMV</td>\n",
       "      <td>22</td>\n",
       "      <td>2035</td>\n",
       "      <td>PAX</td>\n",
       "      <td>VJ</td>\n",
       "      <td>True</td>\n",
       "      <td>180.0</td>\n",
       "      <td>5</td>\n",
       "      <td>6</td>\n",
       "      <td>143</td>\n",
       "      <td>A</td>\n",
       "      <td>0</td>\n",
       "    </tr>\n",
       "  </tbody>\n",
       "</table>\n",
       "</div>"
      ],
      "text/plain": [
       "   FlightDate FlightNo ACType    Route  CgoKgs  TotalPax BaseStation  BagPcs  \\\n",
       "0  2017-01-01    BL570   A320  SGN-BMV       0       139         BMV      21   \n",
       "1  2017-01-01    BL571   A320  BMV-SGN       0       140         BMV      11   \n",
       "2  2017-01-01    BL578   A320  BMV-VII       0       136         BMV       8   \n",
       "3  2017-01-01    BL579   A320  VII-BMV       0       132         BMV      15   \n",
       "4  2017-01-01    VJ356   A320  SGN-BMV    2898       154         BMV      22   \n",
       "\n",
       "  ScheduledTime FlightType Airline domint  Capacity  INF  CHD  ADL ArrDep  C  \n",
       "0          1125        PAX      BL   True     180.0    7    6  126      A  0  \n",
       "1          1200        PAX      BL   True     180.0    7   15  118      D  0  \n",
       "2          1040        PAX      BL   True     180.0    3    7  126      D  0  \n",
       "3          1005        PAX      BL   True     180.0    6    3  123      A  0  \n",
       "4          2035        PAX      VJ   True     180.0    5    6  143      A  0  "
      ]
     },
     "execution_count": 4,
     "metadata": {},
     "output_type": "execute_result"
    }
   ],
   "source": [
    "df.head()"
   ]
  },
  {
   "cell_type": "code",
   "execution_count": 5,
   "metadata": {},
   "outputs": [],
   "source": [
    "df = df[df['Route'].str.len() == 7]"
   ]
  },
  {
   "cell_type": "code",
   "execution_count": 6,
   "metadata": {},
   "outputs": [],
   "source": [
    "set1 = set(df['Route'].str[:3])\n",
    "set2 = set(df['Route'].str[4:])\n",
    "Airport_list = list(set(set1) | set(set2))"
   ]
  },
  {
   "cell_type": "code",
   "execution_count": 7,
   "metadata": {},
   "outputs": [
    {
     "data": {
      "text/plain": [
       "664"
      ]
     },
     "execution_count": 7,
     "metadata": {},
     "output_type": "execute_result"
    }
   ],
   "source": [
    "len(Airport_list)"
   ]
  },
  {
   "attachments": {},
   "cell_type": "markdown",
   "metadata": {},
   "source": [
    "### IATA Location Search"
   ]
  },
  {
   "cell_type": "code",
   "execution_count": 8,
   "metadata": {},
   "outputs": [],
   "source": [
    "lst = []\n",
    "for val in Airport_list:\n",
    "\n",
    "    url = f'https://www.iata.org/en/publications/directories/code-search/?airport.search={val}'\n",
    "    r = requests.get(url)\n",
    "    resp = r.content\n",
    "    soup = BeautifulSoup(resp, \"html.parser\")\n",
    "    #    print(soup)\n",
    "    data = []\n",
    "    try:\n",
    "        for tr in soup.find('table', class_='datatable').find_all('tr')[1:]:\n",
    "            row = [td.text for td in tr.find_all('td')]\n",
    "            #print(row)\n",
    "            lst.append(row)\n",
    "    except:\n",
    "        row = lst.append(['Not Available', 'Not Available', val])\n",
    "df_name_search = pd.DataFrame(lst, columns=['City', 'Airport Name', 'Airport Code'])        \n"
   ]
  },
  {
   "cell_type": "markdown",
   "metadata": {},
   "source": [
    "### Code Combine 3 Files"
   ]
  },
  {
   "cell_type": "code",
   "execution_count": 9,
   "metadata": {},
   "outputs": [],
   "source": [
    "df2 = pd.DataFrame(lst, columns=['City', 'Name', 'Airport Code'])"
   ]
  },
  {
   "cell_type": "code",
   "execution_count": 10,
   "metadata": {},
   "outputs": [],
   "source": [
    "df2.to_excel('IATA_Airport_Info(2017-2022).xlsx', index = False)"
   ]
  },
  {
   "cell_type": "code",
   "execution_count": 15,
   "metadata": {},
   "outputs": [],
   "source": [
    "df_country_search = pd.read_excel('Airport_Location(2017-2022).xlsx')\n",
    "df_lat_long_search = pd.read_excel ('AirportLat_Long(2017-2022).xlsx')"
   ]
  },
  {
   "cell_type": "code",
   "execution_count": 16,
   "metadata": {},
   "outputs": [],
   "source": [
    "df_all = pd.merge(df_country_search,pd.merge(df_name_search,df_lat_long_search,how = 'inner'),how = 'inner')"
   ]
  },
  {
   "cell_type": "code",
   "execution_count": 17,
   "metadata": {},
   "outputs": [
    {
     "data": {
      "text/html": [
       "<div>\n",
       "<style scoped>\n",
       "    .dataframe tbody tr th:only-of-type {\n",
       "        vertical-align: middle;\n",
       "    }\n",
       "\n",
       "    .dataframe tbody tr th {\n",
       "        vertical-align: top;\n",
       "    }\n",
       "\n",
       "    .dataframe thead th {\n",
       "        text-align: right;\n",
       "    }\n",
       "</style>\n",
       "<table border=\"1\" class=\"dataframe\">\n",
       "  <thead>\n",
       "    <tr style=\"text-align: right;\">\n",
       "      <th></th>\n",
       "      <th>Airport Code</th>\n",
       "      <th>Country</th>\n",
       "      <th>City</th>\n",
       "      <th>Airport Name</th>\n",
       "      <th>Lat/Long</th>\n",
       "    </tr>\n",
       "  </thead>\n",
       "  <tbody>\n",
       "    <tr>\n",
       "      <th>0</th>\n",
       "      <td>IKT</td>\n",
       "      <td>Russia</td>\n",
       "      <td>Irkutsk</td>\n",
       "      <td>Irkutsk</td>\n",
       "      <td>52.26806, 104.38889</td>\n",
       "    </tr>\n",
       "    <tr>\n",
       "      <th>1</th>\n",
       "      <td>TLL</td>\n",
       "      <td>Estonia</td>\n",
       "      <td>Tallinn</td>\n",
       "      <td>Lennart Meri</td>\n",
       "      <td>59.4133333333, 24.8322222222</td>\n",
       "    </tr>\n",
       "    <tr>\n",
       "      <th>2</th>\n",
       "      <td>OKC</td>\n",
       "      <td>United States</td>\n",
       "      <td>Oklahoma City</td>\n",
       "      <td>Metropolitan Area</td>\n",
       "      <td>Not Available, Not Available</td>\n",
       "    </tr>\n",
       "    <tr>\n",
       "      <th>3</th>\n",
       "      <td>BKI</td>\n",
       "      <td>Malaysia</td>\n",
       "      <td>Kota Kinabalu</td>\n",
       "      <td>International</td>\n",
       "      <td>5.93694, 116.05111</td>\n",
       "    </tr>\n",
       "    <tr>\n",
       "      <th>4</th>\n",
       "      <td>BRU</td>\n",
       "      <td>Belgium</td>\n",
       "      <td>Brussels</td>\n",
       "      <td>Metropolitan Area</td>\n",
       "      <td>50.9, 4.4836111111</td>\n",
       "    </tr>\n",
       "  </tbody>\n",
       "</table>\n",
       "</div>"
      ],
      "text/plain": [
       "  Airport Code        Country           City       Airport Name  \\\n",
       "0          IKT         Russia        Irkutsk            Irkutsk   \n",
       "1          TLL        Estonia        Tallinn       Lennart Meri   \n",
       "2          OKC  United States  Oklahoma City  Metropolitan Area   \n",
       "3          BKI       Malaysia  Kota Kinabalu      International   \n",
       "4          BRU        Belgium       Brussels  Metropolitan Area   \n",
       "\n",
       "                        Lat/Long  \n",
       "0            52.26806, 104.38889  \n",
       "1   59.4133333333, 24.8322222222  \n",
       "2   Not Available, Not Available  \n",
       "3             5.93694, 116.05111  \n",
       "4             50.9, 4.4836111111  "
      ]
     },
     "execution_count": 17,
     "metadata": {},
     "output_type": "execute_result"
    }
   ],
   "source": [
    "df_all.head()"
   ]
  },
  {
   "cell_type": "code",
   "execution_count": null,
   "metadata": {},
   "outputs": [],
   "source": [
    "df_all.to_excel('AirportInfo(2017-2022).xlsx')"
   ]
  },
  {
   "attachments": {},
   "cell_type": "markdown",
   "metadata": {},
   "source": [
    "### IATA Airline Codes Search"
   ]
  },
  {
   "cell_type": "code",
   "execution_count": 2,
   "metadata": {},
   "outputs": [],
   "source": [
    "df = pd.read_csv('MissingdataAirline.csv')"
   ]
  },
  {
   "cell_type": "code",
   "execution_count": 3,
   "metadata": {},
   "outputs": [
    {
     "data": {
      "text/html": [
       "<div>\n",
       "<style scoped>\n",
       "    .dataframe tbody tr th:only-of-type {\n",
       "        vertical-align: middle;\n",
       "    }\n",
       "\n",
       "    .dataframe tbody tr th {\n",
       "        vertical-align: top;\n",
       "    }\n",
       "\n",
       "    .dataframe thead th {\n",
       "        text-align: right;\n",
       "    }\n",
       "</style>\n",
       "<table border=\"1\" class=\"dataframe\">\n",
       "  <thead>\n",
       "    <tr style=\"text-align: right;\">\n",
       "      <th></th>\n",
       "      <th>Airline</th>\n",
       "    </tr>\n",
       "  </thead>\n",
       "  <tbody>\n",
       "    <tr>\n",
       "      <th>0</th>\n",
       "      <td>ZH</td>\n",
       "    </tr>\n",
       "    <tr>\n",
       "      <th>1</th>\n",
       "      <td>ZF</td>\n",
       "    </tr>\n",
       "    <tr>\n",
       "      <th>2</th>\n",
       "      <td>ZE</td>\n",
       "    </tr>\n",
       "    <tr>\n",
       "      <th>3</th>\n",
       "      <td>ZA</td>\n",
       "    </tr>\n",
       "    <tr>\n",
       "      <th>4</th>\n",
       "      <td>Z5</td>\n",
       "    </tr>\n",
       "  </tbody>\n",
       "</table>\n",
       "</div>"
      ],
      "text/plain": [
       "  Airline\n",
       "0      ZH\n",
       "1      ZF\n",
       "2      ZE\n",
       "3      ZA\n",
       "4      Z5"
      ]
     },
     "execution_count": 3,
     "metadata": {},
     "output_type": "execute_result"
    }
   ],
   "source": [
    "df.head()"
   ]
  },
  {
   "cell_type": "code",
   "execution_count": 36,
   "metadata": {},
   "outputs": [
    {
     "data": {
      "text/plain": [
       "[['VN', 'Vietnam Airlines JSC dba Vietnam Airlines JSC', 'Viet Nam']]"
      ]
     },
     "execution_count": 36,
     "metadata": {},
     "output_type": "execute_result"
    }
   ],
   "source": [
    "# Test single-value\n",
    "lst = []\n",
    "val = 'VN'\n",
    "url = f'https://www.iata.org/en/publications/directories/code-search/?airline.search={val}'\n",
    "#print(url)\n",
    "#url = f'https://flightmath.com/from-{val[:3]}-to-{val[-3:]}'\n",
    "r = requests.get(url)\n",
    "resp = r.content\n",
    "soup = BeautifulSoup(resp, \"html.parser\")\n",
    "#    print(soup)\n",
    "data = []\n",
    "try: \n",
    "    for tr in soup.find('table', class_='datatable').find_all('tr')[1:2]:\n",
    "        \n",
    "        row = [td.text for td in tr.find_all('td')][0:2]\n",
    "        row.insert(0,val)\n",
    "        lst.append(row)\n",
    "\n",
    "except:\n",
    "    row = lst.append(['Not Available', 'Not Available', val])\n",
    "\n",
    "lst"
   ]
  },
  {
   "cell_type": "code",
   "execution_count": 4,
   "metadata": {},
   "outputs": [],
   "source": [
    "# Batch search\n",
    "lst = []\n",
    "\n",
    "for val in df['Airline'].unique():\n",
    "\n",
    "    url = f'https://www.iata.org/en/publications/directories/code-search/?airline.search={val}'\n",
    "    #print(url)\n",
    "    #url = f'https://flightmath.com/from-{val[:3]}-to-{val[-3:]}'\n",
    "    r = requests.get(url)\n",
    "    resp = r.content\n",
    "    soup = BeautifulSoup(resp, \"html.parser\")\n",
    "    #    print(soup)\n",
    "    data = []\n",
    "    try:\n",
    "        for tr in soup.find('table', class_='datatable').find_all('tr')[1:]:\n",
    "            row = [td.text for td in tr.find_all('td')][0:2]\n",
    "            row.insert(0,val)\n",
    "            #print(row)\n",
    "            lst.append(row)\n",
    "\n",
    "    except:\n",
    "        row = lst.append([val, 'Not Available', 'Not Available'])\n"
   ]
  },
  {
   "cell_type": "code",
   "execution_count": 6,
   "metadata": {},
   "outputs": [],
   "source": [
    "df2 = pd.DataFrame(lst, columns=['Airline Code', 'Company Name', 'Country/Territory'])"
   ]
  },
  {
   "cell_type": "code",
   "execution_count": 7,
   "metadata": {},
   "outputs": [
    {
     "data": {
      "text/html": [
       "<div>\n",
       "<style scoped>\n",
       "    .dataframe tbody tr th:only-of-type {\n",
       "        vertical-align: middle;\n",
       "    }\n",
       "\n",
       "    .dataframe tbody tr th {\n",
       "        vertical-align: top;\n",
       "    }\n",
       "\n",
       "    .dataframe thead th {\n",
       "        text-align: right;\n",
       "    }\n",
       "</style>\n",
       "<table border=\"1\" class=\"dataframe\">\n",
       "  <thead>\n",
       "    <tr style=\"text-align: right;\">\n",
       "      <th></th>\n",
       "      <th>Airline Code</th>\n",
       "      <th>Company Name</th>\n",
       "      <th>Country/Territory</th>\n",
       "    </tr>\n",
       "  </thead>\n",
       "  <tbody>\n",
       "    <tr>\n",
       "      <th>0</th>\n",
       "      <td>ZH</td>\n",
       "      <td>Shenzhen Airlines</td>\n",
       "      <td>People's Republic of China</td>\n",
       "    </tr>\n",
       "    <tr>\n",
       "      <th>1</th>\n",
       "      <td>ZF</td>\n",
       "      <td>AZUR air Limited Liability Company</td>\n",
       "      <td>Russian Federation</td>\n",
       "    </tr>\n",
       "    <tr>\n",
       "      <th>2</th>\n",
       "      <td>ZF</td>\n",
       "      <td>Safari Express Cargo Ltd</td>\n",
       "      <td>Kenya</td>\n",
       "    </tr>\n",
       "    <tr>\n",
       "      <th>3</th>\n",
       "      <td>ZE</td>\n",
       "      <td>Not Available</td>\n",
       "      <td>Not Available</td>\n",
       "    </tr>\n",
       "    <tr>\n",
       "      <th>4</th>\n",
       "      <td>ZA</td>\n",
       "      <td>Sky Angkor Airlines dba Sky Angkor Airlines Co...</td>\n",
       "      <td>Cambodia</td>\n",
       "    </tr>\n",
       "  </tbody>\n",
       "</table>\n",
       "</div>"
      ],
      "text/plain": [
       "  Airline Code                                       Company Name  \\\n",
       "0           ZH                                  Shenzhen Airlines   \n",
       "1           ZF                 AZUR air Limited Liability Company   \n",
       "2           ZF                           Safari Express Cargo Ltd   \n",
       "3           ZE                                      Not Available   \n",
       "4           ZA  Sky Angkor Airlines dba Sky Angkor Airlines Co...   \n",
       "\n",
       "            Country/Territory  \n",
       "0  People's Republic of China  \n",
       "1          Russian Federation  \n",
       "2                       Kenya  \n",
       "3               Not Available  \n",
       "4                    Cambodia  "
      ]
     },
     "execution_count": 7,
     "metadata": {},
     "output_type": "execute_result"
    }
   ],
   "source": [
    "df2.head()"
   ]
  },
  {
   "cell_type": "code",
   "execution_count": null,
   "metadata": {},
   "outputs": [],
   "source": [
    "df2.to_excel('IATA_Airline_Info(2017-2022).xlsx', index = False)"
   ]
  },
  {
   "cell_type": "code",
   "execution_count": null,
   "metadata": {},
   "outputs": [],
   "source": []
  }
 ],
 "metadata": {
  "kernelspec": {
   "display_name": "base",
   "language": "python",
   "name": "python3"
  },
  "language_info": {
   "codemirror_mode": {
    "name": "ipython",
    "version": 3
   },
   "file_extension": ".py",
   "mimetype": "text/x-python",
   "name": "python",
   "nbconvert_exporter": "python",
   "pygments_lexer": "ipython3",
   "version": "3.9.13"
  },
  "orig_nbformat": 4,
  "vscode": {
   "interpreter": {
    "hash": "c8247cd46745272d9c7c8ab15080c8ed21e61ae74d7d4939c7a38a329c28da52"
   }
  }
 },
 "nbformat": 4,
 "nbformat_minor": 2
}
